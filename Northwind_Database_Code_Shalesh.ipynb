{
 "cells": [
  {
   "cell_type": "markdown",
   "metadata": {},
   "source": [
    "# Northwind Dataset Case Study Code"
   ]
  },
  {
   "cell_type": "code",
   "execution_count": 2,
   "metadata": {},
   "outputs": [
    {
     "data": {
      "text/html": [
       "<style scoped>\n",
       "  .ansiout {\n",
       "    display: block;\n",
       "    unicode-bidi: embed;\n",
       "    white-space: pre-wrap;\n",
       "    word-wrap: break-word;\n",
       "    word-break: break-all;\n",
       "    font-family: \"Source Code Pro\", \"Menlo\", monospace;;\n",
       "    font-size: 13px;\n",
       "    color: #555;\n",
       "    margin-left: 4px;\n",
       "    line-height: 19px;\n",
       "  }\n",
       "</style>\n",
       "<div class=\"ansiout\"></div>"
      ]
     },
     "metadata": {},
     "output_type": "display_data"
    }
   ],
   "source": [
    "%python # Selecting python as the language"
   ]
  },
  {
   "cell_type": "code",
   "execution_count": 3,
   "metadata": {},
   "outputs": [
    {
     "data": {
      "text/html": [
       "<style scoped>\n",
       "  .ansiout {\n",
       "    display: block;\n",
       "    unicode-bidi: embed;\n",
       "    white-space: pre-wrap;\n",
       "    word-wrap: break-word;\n",
       "    word-break: break-all;\n",
       "    font-family: \"Source Code Pro\", \"Menlo\", monospace;;\n",
       "    font-size: 13px;\n",
       "    color: #555;\n",
       "    margin-left: 4px;\n",
       "    line-height: 19px;\n",
       "  }\n",
       "</style>\n",
       "<div class=\"ansiout\"></div>"
      ]
     },
     "metadata": {},
     "output_type": "display_data"
    }
   ],
   "source": [
    "import pandas as pd\n",
    "import numpy as np"
   ]
  },
  {
   "cell_type": "markdown",
   "metadata": {},
   "source": [
    "This is a method to import all the datasets together in one code but since the data can have some changes in headings during import, so we import them individually."
   ]
  },
  {
   "cell_type": "markdown",
   "metadata": {},
   "source": [
    "#### About the Data\n",
    "\n",
    "<b>Answer 1) </b> Northwind Database is a sample database that is shipped along with Microsoft Access application. Basically, the database is about a company named \"Northwind Traders\". The database captures all the sales transactions that occurs between the company i.e. Northwind traders and its customers as well as the purchase transactions between Northwind and its suppliers.\n",
    "\n",
    "It contains the following detailed information :\n",
    "\n",
    "- Suppliers/Vendors of Northwind – who supply to the company.\n",
    "- Customers of Northwind – who buy from Northwind\n",
    "- Employee details of Northwind traders – who work for Northwind\n",
    "- The product information – the products that Northwind trades in\n",
    "- The inventory details – the details of the inventory held by Northwind traders.\n",
    "- The shippers – details of the shippers who ship the products from the traders to the end-customers\n",
    "- PO transactions i.e Purchase Order transactions – details of the transactions taking place between vendors & the company.\n",
    "- Sales Order transaction – details of the transactions taking place between the customers & the company.\n",
    "- Inventory transactions – details of the transactions taking place in the inventory\n",
    "- Invoices – details of the invoice raised against the order."
   ]
  },
  {
   "cell_type": "code",
   "execution_count": 6,
   "metadata": {},
   "outputs": [
    {
     "data": {
      "text/html": [
       "<style scoped>\n",
       "  .ansiout {\n",
       "    display: block;\n",
       "    unicode-bidi: embed;\n",
       "    white-space: pre-wrap;\n",
       "    word-wrap: break-word;\n",
       "    word-break: break-all;\n",
       "    font-family: \"Source Code Pro\", \"Menlo\", monospace;;\n",
       "    font-size: 13px;\n",
       "    color: #555;\n",
       "    margin-left: 4px;\n",
       "    line-height: 19px;\n",
       "  }\n",
       "</style>\n",
       "<div class=\"ansiout\"></div>"
      ]
     },
     "metadata": {},
     "output_type": "display_data"
    }
   ],
   "source": [
    "# path_categories = \"/FileStore/tables/categories.csv\"\n",
    "# # path_customers = \"/FileStore/tables/customers.csv\"\n",
    "# # path_er-details = \"/FileStore/tables/order-details.csv\"\n",
    "# # path_ormployees = \"/FileStore/tables/employees.csv\"\n",
    "# # path_employee-territories = \"/FileStore/tables/employee-territories.csv\"\n",
    "# # path_ordeders = \"/FileStore/tables/orders.csv\"\n",
    "# # path_products = \"/FileStore/tables/products.csv\"\n",
    "# # path_regions = \"/FileStore/tables/regions.csv\"\n",
    "# # path_shippers = \"/FileStore/tables/shippers.csv\"\n",
    "# # path_suppliers = \"/FileStore/tables/suppliers.csv\"\n",
    "# # path_territories = \"/FileStore/tables/territories.csv\"\n",
    "\n",
    "# # The applied options are for CSV files. For other file types, these will be ignored.\n",
    "# file_type = \"csv\"\n",
    "# df = spark.read.format(file_type) \\\n",
    "#   .option(\"inferSchema\", infer_schema) \\\n",
    "#   .option(\"header\", first_row_is_header) \\\n",
    "#   .option(\"sep\", delimiter) \\\n",
    "#   .load(path_categories)\n",
    "# df.show()"
   ]
  },
  {
   "cell_type": "markdown",
   "metadata": {},
   "source": [
    "<b>Answer 2) </b>  Creating Dataframes as tables while importing since it is asked in the question to make the tables after importing the datasets"
   ]
  },
  {
   "cell_type": "code",
   "execution_count": 8,
   "metadata": {},
   "outputs": [
    {
     "data": {
      "text/html": [
       "<style scoped>\n",
       "  .ansiout {\n",
       "    display: block;\n",
       "    unicode-bidi: embed;\n",
       "    white-space: pre-wrap;\n",
       "    word-wrap: break-word;\n",
       "    word-break: break-all;\n",
       "    font-family: \"Source Code Pro\", \"Menlo\", monospace;;\n",
       "    font-size: 13px;\n",
       "    color: #555;\n",
       "    margin-left: 4px;\n",
       "    line-height: 19px;\n",
       "  }\n",
       "</style>\n",
       "<div class=\"ansiout\">+----------+--------------+-------------------------------------------------------+\n",
       "CategoryID|CategoryName  |Description                                            |\n",
       "+----------+--------------+-------------------------------------------------------+\n",
       "1         |Beverages     |Soft drinks coffee teas beers and ales                 |\n",
       "2         |Condiments    |Sweet and savory sauces relishes spreads and seasonings|\n",
       "3         |Confections   |Desserts candies and sweet breads                      |\n",
       "4         |Dairy Products|Cheeses                                                |\n",
       "5         |Grains/Cereals|Breads crackers pasta and cereal                       |\n",
       "6         |Meat/Poultry  |Prepared meats                                         |\n",
       "7         |Produce       |Dried fruit and bean curd                              |\n",
       "8         |Seafood       |Seaweed and fish                                       |\n",
       "+----------+--------------+-------------------------------------------------------+\n",
       "\n",
       "</div>"
      ]
     },
     "metadata": {},
     "output_type": "display_data"
    }
   ],
   "source": [
    "# Importing dataset files and creating dataframes for each of the data sets\n",
    "df=spark.read.option(\"header\",\"true\").csv(\"/FileStore/tables/categories.csv\")\n",
    "df.show(10,False)"
   ]
  },
  {
   "cell_type": "code",
   "execution_count": 9,
   "metadata": {},
   "outputs": [
    {
     "data": {
      "text/html": [
       "<style scoped>\n",
       "  .ansiout {\n",
       "    display: block;\n",
       "    unicode-bidi: embed;\n",
       "    white-space: pre-wrap;\n",
       "    word-wrap: break-word;\n",
       "    word-break: break-all;\n",
       "    font-family: \"Source Code Pro\", \"Menlo\", monospace;;\n",
       "    font-size: 13px;\n",
       "    color: #555;\n",
       "    margin-left: 4px;\n",
       "    line-height: 19px;\n",
       "  }\n",
       "</style>\n",
       "<div class=\"ansiout\">+----------+----------------------------------+------------------+--------------------+-----------------------------+-----------+------+----------+-------+--------------+--------------+\n",
       "CustomerID|CompanyName                       |ContactName       |ContactTitle        |Address                      |City       |Region|PostalCode|Country|Phone         |Fax           |\n",
       "+----------+----------------------------------+------------------+--------------------+-----------------------------+-----------+------+----------+-------+--------------+--------------+\n",
       "ALFKI     |Alfreds Futterkiste               |Maria Anders      |Sales Representative|Obere Str. 57                |Berlin     |NULL  |12209     |Germany|030-0074321   |030-0076545   |\n",
       "ANATR     |Ana Trujillo Emparedados y helados|Ana Trujillo      |Owner               |Avda. de la Constitución 2222|México D.F.|NULL  |05021     |Mexico |(5) 555-4729  |(5) 555-3745  |\n",
       "ANTON     |Antonio Moreno Taquería           |Antonio Moreno    |Owner               |Mataderos  2312              |México D.F.|NULL  |05023     |Mexico |(5) 555-3932  |NULL          |\n",
       "AROUT     |Around the Horn                   |Thomas Hardy      |Sales Representative|120 Hanover Sq.              |London     |NULL  |WA1 1DP   |UK     |(171) 555-7788|(171) 555-6750|\n",
       "BERGS     |Berglunds snabbköp                |Christina Berglund|Order Administrator |Berguvsvägen  8              |Luleå      |NULL  |S-958 22  |Sweden |0921-12 34 65 |0921-12 34 67 |\n",
       "BLAUS     |Blauer See Delikatessen           |Hanna Moos        |Sales Representative|Forsterstr. 57               |Mannheim   |NULL  |68306     |Germany|0621-08460    |0621-08924    |\n",
       "BLONP     |Blondesddsl père et fils          |Frédérique Citeaux|Marketing Manager   |24 place Kléber              |Strasbourg |NULL  |67000     |France |88.60.15.31   |88.60.15.32   |\n",
       "BOLID     |Bólido Comidas preparadas         |Martín Sommer     |Owner               |C/ Araquil 67                |Madrid     |NULL  |28023     |Spain  |(91) 555 22 82|(91) 555 91 99|\n",
       "BONAP     |Bon app&#39;                          |Laurence Lebihan  |Owner               |12 rue des Bouchers          |Marseille  |NULL  |13008     |France |91.24.45.40   |91.24.45.41   |\n",
       "BOTTM     |Bottom-Dollar Markets             |Elizabeth Lincoln |Accounting Manager  |23 Tsawassen Blvd.           |Tsawassen  |BC    |T2F 8M4   |Canada |(604) 555-4729|(604) 555-3745|\n",
       "+----------+----------------------------------+------------------+--------------------+-----------------------------+-----------+------+----------+-------+--------------+--------------+\n",
       "only showing top 10 rows\n",
       "\n",
       "</div>"
      ]
     },
     "metadata": {},
     "output_type": "display_data"
    }
   ],
   "source": [
    "# Importing and saving the customers data as dataframe into tables\n",
    "df1=spark.read.option(\"header\",\"true\").csv(\"/FileStore/tables/customers.csv\")\n",
    "df1.show(10,False)"
   ]
  },
  {
   "cell_type": "code",
   "execution_count": 10,
   "metadata": {},
   "outputs": [
    {
     "data": {
      "text/html": [
       "<style scoped>\n",
       "  .ansiout {\n",
       "    display: block;\n",
       "    unicode-bidi: embed;\n",
       "    white-space: pre-wrap;\n",
       "    word-wrap: break-word;\n",
       "    word-break: break-all;\n",
       "    font-family: \"Source Code Pro\", \"Menlo\", monospace;;\n",
       "    font-size: 13px;\n",
       "    color: #555;\n",
       "    margin-left: 4px;\n",
       "    line-height: 19px;\n",
       "  }\n",
       "</style>\n",
       "<div class=\"ansiout\">+----------+---------+---------+------------------------+---------------+-----------------------+-----------------------+----------------------------+--------+------+----------+-------+--------------+---------+----------------------------------------------------------------------------------------------------------------------------------------------------------------------------------------------------------------------------------------------------------------+---------------------------------------------------------------------------------------------------------------------------------------------------------------------------------------------------------------------------------------------------------------+---------+--------------------------------------+\n",
       "EmployeeID|LastName |FirstName|Title                   |TitleOfCourtesy|BirthDate              |HireDate               |Address                     |City    |Region|PostalCode|Country|HomePhone     |Extension|Photo                                                                                                                                                                                                                                                           |Notes                                                                                                                                                                                                                                                          |ReportsTo|PhotoPath                             |\n",
       "+----------+---------+---------+------------------------+---------------+-----------------------+-----------------------+----------------------------+--------+------+----------+-------+--------------+---------+----------------------------------------------------------------------------------------------------------------------------------------------------------------------------------------------------------------------------------------------------------------+---------------------------------------------------------------------------------------------------------------------------------------------------------------------------------------------------------------------------------------------------------------+---------+--------------------------------------+\n",
       "1         |Davolio  |Nancy    |Sales Representative    |Ms.            |1948-12-08 00:00:00.000|1992-05-01 00:00:00.000|507 - 20th Ave. E.Apt. 2A   |Seattle |WA    |98122     |USA    |(206) 555-9857|5467     |0x151C2F00020000000D000E0014002100FFFFFFFF4269746D617020496D616765005061696E742E506963747572650001050000020000000700000050427275736800000000000000000020540000424D20540000000000007600000028000000C0000000DF0000000100040000000000A0530000CE0E0000D80E0000000000|Education includes a BA in psychology from Colorado State University in 1970.  She also completed &#34;The Art of the Cold Call.&#34;  Nancy is a member of Toastmasters International.                                                                                |2        |http://accweb/emmployees/davolio.bmp  |\n",
       "2         |Fuller   |Andrew   |Vice President Sales    |Dr.            |1952-02-19 00:00:00.000|1992-08-14 00:00:00.000|908 W. Capital Way          |Tacoma  |WA    |98401     |USA    |(206) 555-9482|3457     |0x151C2F00020000000D000E0014002100FFFFFFFF4269746D617020496D616765005061696E742E506963747572650001050000020000000700000050427275736800000000000000000020540000424D20540000000000007600000028000000C0000000DF0000000100040000000000A0530000CE0E0000D80E0000000000|Andrew received his BTS commercial in 1974 and a Ph.D. in international marketing from the University of Dallas in 1981.  He is fluent in French and Italian and reads German.  He joined the company as a sales representative was promoted to sales manager i|NULL     |http://accweb/emmployees/fuller.bmp   |\n",
       "3         |Leverling|Janet    |Sales Representative    |Ms.            |1963-08-30 00:00:00.000|1992-04-01 00:00:00.000|722 Moss Bay Blvd.          |Kirkland|WA    |98033     |USA    |(206) 555-3412|3355     |0x151C2F00020000000D000E0014002100FFFFFFFF4269746D617020496D616765005061696E742E506963747572650001050000020000000700000050427275736800000000000000000080540000424D80540000000000007600000028000000C0000000E0000000010004000000000000540000CE0E0000D80E0000000000|Janet has a BS degree in chemistry from Boston College (1984).  She has also completed a certificate program in food retailing management.  Janet was hired as a sales associate in 1991 and promoted to sales representative in February 1992.                |2        |http://accweb/emmployees/leverling.bmp|\n",
       "4         |Peacock  |Margaret |Sales Representative    |Mrs.           |1937-09-19 00:00:00.000|1993-05-03 00:00:00.000|4110 Old Redmond Rd.        |Redmond |WA    |98052     |USA    |(206) 555-8122|5176     |0x151C2F00020000000D000E0014002100FFFFFFFF4269746D617020496D616765005061696E742E506963747572650001050000020000000700000050427275736800000000000000000020540000424D20540000000000007600000028000000C0000000DF0000000100040000000000A0530000CE0E0000D80E0000000000|Margaret holds a BA in English literature from Concordia College (1958) and an MA from the American Institute of Culinary Arts (1966).  She was assigned to the London office temporarily from July through November 1992.                                     |2        |http://accweb/emmployees/peacock.bmp  |\n",
       "5         |Buchanan |Steven   |Sales Manager           |Mr.            |1955-03-04 00:00:00.000|1993-10-17 00:00:00.000|14 Garrett Hill             |London  |NULL  |SW1 8JR   |UK     |(71) 555-4848 |3453     |0x151C2F00020000000D000E0014002100FFFFFFFF4269746D617020496D616765005061696E742E506963747572650001050000020000000700000050427275736800000000000000000020540000424D20540000000000007600000028000000C0000000DF0000000100040000000000A0530000CE0E0000D80E0000000000|Steven Buchanan graduated from St. Andrews University Scotland with a BSC degree in 1976.  Upon joining the company as a sales representative in 1992. he spent 6 months in an orientation program at the Seattle office and then returned to his permanent po |2        |http://accweb/emmployees/buchanan.bmp |\n",
       "6         |Suyama   |Michael  |Sales Representative    |Mr.            |1963-07-02 00:00:00.000|1993-10-17 00:00:00.000|Coventry HouseMiner Rd.     |London  |NULL  |EC2 7JR   |UK     |(71) 555-7773 |428      |0x151C2F00020000000D000E0014002100FFFFFFFF4269746D617020496D616765005061696E742E506963747572650001050000020000000700000050427275736800000000000000000020540000424D16540000000000007600000028000000C0000000DF0000000100040000000000A0530000CE0E0000D80E0000000000|Michael is a graduate of Sussex University (MA economics 1983) and the University of California at Los Angeles (MBA marketing 1986).  He has also taken the courses &#34;Multi-Cultural Selling&#34; and &#34;Time Management for the Sales Professional.&#34;  He is fluent   |5        |http://accweb/emmployees/davolio.bmp  |\n",
       "7         |King     |Robert   |Sales Representative    |Mr.            |1960-05-29 00:00:00.000|1994-01-02 00:00:00.000|Edgeham HollowWinchester Way|London  |NULL  |RG1 9SP   |UK     |(71) 555-5598 |465      |0x151C2F00020000000D000E0014002100FFFFFFFF4269746D617020496D616765005061696E742E506963747572650001050000020000000700000050427275736800000000000000000020540000424D16540000000000007600000028000000C0000000DF0000000100040000000000A0530000CE0E0000D80E0000000000|Robert King served in the Peace Corps and traveled extensively before completing his degree in English at the University of Michigan in 1992 the year he joined the company.  After completing a course entitled &#34;Selling in Europe&#34; he was transferred to the |5        |http://accweb/emmployees/davolio.bmp  |\n",
       "8         |Callahan |Laura    |Inside Sales Coordinator|Ms.            |1958-01-09 00:00:00.000|1994-03-05 00:00:00.000|4726 - 11th Ave. N.E.       |Seattle |WA    |98105     |USA    |(206) 555-1189|2344     |0x151C2F00020000000D000E0014002100FFFFFFFF4269746D617020496D616765005061696E742E506963747572650001050000020000000700000050427275736800000000000000000020540000424D16540000000000007600000028000000C0000000DF0000000100040000000000A0530000CE0E0000D80E0000000000|Laura received a BA in psychology from the University of Washington.  She has also completed a course in business French.  She reads and writes French.                                                                                                        |2        |http://accweb/emmployees/davolio.bmp  |\n",
       "9         |Dodsworth|Anne     |Sales Representative    |Ms.            |1966-01-27 00:00:00.000|1994-11-15 00:00:00.000|7 Houndstooth Rd.           |London  |NULL  |WG2 7LT   |UK     |(71) 555-4444 |452      |0x151C2F00020000000D000E0014002100FFFFFFFF4269746D617020496D616765005061696E742E506963747572650001050000020000000700000050427275736800000000000000000020540000424D16540000000000007600000028000000C0000000DF0000000100040000000000A0530000CE0E0000D80E0000000000|Anne has a BA degree in English from St. Lawrence College.  She is fluent in French and German.                                                                                                                                                                |5        |http://accweb/emmployees/davolio.bmp  |\n",
       "+----------+---------+---------+------------------------+---------------+-----------------------+-----------------------+----------------------------+--------+------+----------+-------+--------------+---------+----------------------------------------------------------------------------------------------------------------------------------------------------------------------------------------------------------------------------------------------------------------+---------------------------------------------------------------------------------------------------------------------------------------------------------------------------------------------------------------------------------------------------------------+---------+--------------------------------------+\n",
       "\n",
       "</div>"
      ]
     },
     "metadata": {},
     "output_type": "display_data"
    }
   ],
   "source": [
    "# Importing and saving the employees data as dataframe into tables\n",
    "df2=spark.read.option(\"header\",\"true\").csv(\"/FileStore/tables/employees.csv\")\n",
    "df2.show(10,False)"
   ]
  },
  {
   "cell_type": "code",
   "execution_count": 11,
   "metadata": {},
   "outputs": [
    {
     "data": {
      "text/html": [
       "<style scoped>\n",
       "  .ansiout {\n",
       "    display: block;\n",
       "    unicode-bidi: embed;\n",
       "    white-space: pre-wrap;\n",
       "    word-wrap: break-word;\n",
       "    word-break: break-all;\n",
       "    font-family: \"Source Code Pro\", \"Menlo\", monospace;;\n",
       "    font-size: 13px;\n",
       "    color: #555;\n",
       "    margin-left: 4px;\n",
       "    line-height: 19px;\n",
       "  }\n",
       "</style>\n",
       "<div class=\"ansiout\">+-------+----------+----------+-----------------------+-----------------------+-----------------------+-------+-------+-------------------------+------------------------------------------+----------------+--------------+--------------+-----------+\n",
       "OrderID|CustomerID|EmployeeID|OrderDate              |RequiredDate           |ShippedDate            |ShipVia|Freight|ShipName                 |ShipAddress                               |ShipCity        |ShipRegion    |ShipPostalCode|ShipCountry|\n",
       "+-------+----------+----------+-----------------------+-----------------------+-----------------------+-------+-------+-------------------------+------------------------------------------+----------------+--------------+--------------+-----------+\n",
       "10248  |VINET     |5         |1996-07-04 00:00:00.000|1996-08-01 00:00:00.000|1996-07-16 00:00:00.000|3      |32.38  |Vins et alcools Chevalier|59 rue de l&#39;Abbaye                        |Reims           |NULL          |51100         |France     |\n",
       "10249  |TOMSP     |6         |1996-07-05 00:00:00.000|1996-08-16 00:00:00.000|1996-07-10 00:00:00.000|1      |11.61  |Toms Spezialitäten       |Luisenstr. 48                             |Münster         |NULL          |44087         |Germany    |\n",
       "10250  |HANAR     |4         |1996-07-08 00:00:00.000|1996-08-05 00:00:00.000|1996-07-12 00:00:00.000|2      |65.83  |Hanari Carnes            |Rua do Paço                               | 67             |Rio de Janeiro|RJ            |05454-876  |\n",
       "10251  |VICTE     |3         |1996-07-08 00:00:00.000|1996-08-05 00:00:00.000|1996-07-15 00:00:00.000|1      |41.34  |Victuailles en stock     |2                                         | rue du Commerce|Lyon          |NULL          |69004      |\n",
       "10252  |SUPRD     |4         |1996-07-09 00:00:00.000|1996-08-06 00:00:00.000|1996-07-11 00:00:00.000|2      |51.30  |Suprêmes délices         |Boulevard Tirou                           | 255            |Charleroi     |NULL          |B-6000     |\n",
       "10253  |HANAR     |3         |1996-07-10 00:00:00.000|1996-07-24 00:00:00.000|1996-07-16 00:00:00.000|2      |58.17  |Hanari Carnes            |Rua do Paço                               | 67             |Rio de Janeiro|RJ            |05454-876  |\n",
       "10254  |CHOPS     |5         |1996-07-11 00:00:00.000|1996-08-08 00:00:00.000|1996-07-23 00:00:00.000|2      |22.98  |Chop-suey Chinese        |Hauptstr. 31                              |Bern            |NULL          |3012          |Switzerland|\n",
       "10255  |RICSU     |9         |1996-07-12 00:00:00.000|1996-08-09 00:00:00.000|1996-07-15 00:00:00.000|3      |148.33 |Richter Supermarkt       |Starenweg 5                               |Genève          |NULL          |1204          |Switzerland|\n",
       "10256  |WELLI     |3         |1996-07-15 00:00:00.000|1996-08-12 00:00:00.000|1996-07-17 00:00:00.000|2      |13.97  |Wellington Importadora   |Rua do Mercado                            | 12             |Resende       |SP            |08737-363  |\n",
       "10257  |HILAA     |4         |1996-07-16 00:00:00.000|1996-08-13 00:00:00.000|1996-07-22 00:00:00.000|3      |81.91  |HILARION-Abastos         |Carrera 22 con Ave. Carlos Soublette #8-35|San Cristóbal   |Táchira       |5022          |Venezuela  |\n",
       "+-------+----------+----------+-----------------------+-----------------------+-----------------------+-------+-------+-------------------------+------------------------------------------+----------------+--------------+--------------+-----------+\n",
       "only showing top 10 rows\n",
       "\n",
       "</div>"
      ]
     },
     "metadata": {},
     "output_type": "display_data"
    }
   ],
   "source": [
    "# Importing and saving the orders data as dataframe into tables\n",
    "df3=spark.read.option(\"header\",\"true\").csv(\"/FileStore/tables/orders.csv\")\n",
    "df3.show(10,False)"
   ]
  },
  {
   "cell_type": "code",
   "execution_count": 12,
   "metadata": {},
   "outputs": [
    {
     "data": {
      "text/html": [
       "<style scoped>\n",
       "  .ansiout {\n",
       "    display: block;\n",
       "    unicode-bidi: embed;\n",
       "    white-space: pre-wrap;\n",
       "    word-wrap: break-word;\n",
       "    word-break: break-all;\n",
       "    font-family: \"Source Code Pro\", \"Menlo\", monospace;;\n",
       "    font-size: 13px;\n",
       "    color: #555;\n",
       "    margin-left: 4px;\n",
       "    line-height: 19px;\n",
       "  }\n",
       "</style>\n",
       "<div class=\"ansiout\">+---------+-------------------------------+----------+----------+-------------------+---------+------------+------------+------------+------------+\n",
       "ProductID|ProductName                    |SupplierID|CategoryID|QuantityPerUnit    |UnitPrice|UnitsInStock|UnitsOnOrder|ReorderLevel|Discontinued|\n",
       "+---------+-------------------------------+----------+----------+-------------------+---------+------------+------------+------------+------------+\n",
       "1        |Chai                           |1         |1         |10 boxes x 20 bags |18       |39          |0           |10          |0           |\n",
       "2        |Chang                          |1         |1         |24 - 12 oz bottles |19       |17          |40          |25          |0           |\n",
       "3        |Aniseed Syrup                  |1         |2         |12 - 550 ml bottles|10       |13          |70          |25          |0           |\n",
       "4        |Chef Anton&#39;s Cajun Seasoning   |2         |2         |48 - 6 oz jars     |22       |53          |0           |0           |0           |\n",
       "5        |Chef Anton&#39;s Gumbo Mix         |2         |2         |36 boxes           |21.35    |0           |0           |0           |1           |\n",
       "6        |Grandma&#39;s Boysenberry Spread   |3         |2         |12 - 8 oz jars     |25       |120         |0           |25          |0           |\n",
       "7        |Uncle Bob&#39;s Organic Dried Pears|3         |7         |12 - 1 lb pkgs.    |30       |15          |0           |10          |0           |\n",
       "8        |Northwoods Cranberry Sauce     |3         |2         |12 - 12 oz jars    |40       |6           |0           |0           |0           |\n",
       "9        |Mishi Kobe Niku                |4         |6         |18 - 500 g pkgs.   |97       |29          |0           |0           |1           |\n",
       "10       |Ikura                          |4         |8         |12 - 200 ml jars   |31       |31          |0           |0           |0           |\n",
       "+---------+-------------------------------+----------+----------+-------------------+---------+------------+------------+------------+------------+\n",
       "only showing top 10 rows\n",
       "\n",
       "</div>"
      ]
     },
     "metadata": {},
     "output_type": "display_data"
    }
   ],
   "source": [
    "# Importing and saving the products data as dataframe into tables\n",
    "df4=spark.read.option(\"header\",\"true\").csv(\"/FileStore/tables/products.csv\")\n",
    "df4.show(10,False)"
   ]
  },
  {
   "cell_type": "code",
   "execution_count": 13,
   "metadata": {},
   "outputs": [
    {
     "data": {
      "text/html": [
       "<style scoped>\n",
       "  .ansiout {\n",
       "    display: block;\n",
       "    unicode-bidi: embed;\n",
       "    white-space: pre-wrap;\n",
       "    word-wrap: break-word;\n",
       "    word-break: break-all;\n",
       "    font-family: \"Source Code Pro\", \"Menlo\", monospace;;\n",
       "    font-size: 13px;\n",
       "    color: #555;\n",
       "    margin-left: 4px;\n",
       "    line-height: 19px;\n",
       "  }\n",
       "</style>\n",
       "<div class=\"ansiout\">+--------+--------------------------------------------------+\n",
       "RegionID|RegionDescription                                 |\n",
       "+--------+--------------------------------------------------+\n",
       "1       |Eastern                                           |\n",
       "2       |Western                                           |\n",
       "3       |Northern                                          |\n",
       "4       |Southern                                          |\n",
       "+--------+--------------------------------------------------+\n",
       "\n",
       "</div>"
      ]
     },
     "metadata": {},
     "output_type": "display_data"
    }
   ],
   "source": [
    "# Importing and saving the regions data as dataframe into tables\n",
    "df5=spark.read.option(\"header\",\"true\").csv(\"/FileStore/tables/regions.csv\")\n",
    "df5.show(10,False)"
   ]
  },
  {
   "cell_type": "code",
   "execution_count": 14,
   "metadata": {},
   "outputs": [
    {
     "data": {
      "text/html": [
       "<style scoped>\n",
       "  .ansiout {\n",
       "    display: block;\n",
       "    unicode-bidi: embed;\n",
       "    white-space: pre-wrap;\n",
       "    word-wrap: break-word;\n",
       "    word-break: break-all;\n",
       "    font-family: \"Source Code Pro\", \"Menlo\", monospace;;\n",
       "    font-size: 13px;\n",
       "    color: #555;\n",
       "    margin-left: 4px;\n",
       "    line-height: 19px;\n",
       "  }\n",
       "</style>\n",
       "<div class=\"ansiout\">+---------+----------------+--------------+\n",
       "ShipperID|CompanyName     |Phone         |\n",
       "+---------+----------------+--------------+\n",
       "1        |Speedy Express  |(503) 555-9831|\n",
       "2        |United Package  |(503) 555-3199|\n",
       "3        |Federal Shipping|(503) 555-9931|\n",
       "+---------+----------------+--------------+\n",
       "\n",
       "</div>"
      ]
     },
     "metadata": {},
     "output_type": "display_data"
    }
   ],
   "source": [
    "# Importing and saving the shippers data as dataframe into tables\n",
    "df6=spark.read.option(\"header\",\"true\").csv(\"/FileStore/tables/shippers.csv\")\n",
    "df6.show(10,False)"
   ]
  },
  {
   "cell_type": "code",
   "execution_count": 15,
   "metadata": {},
   "outputs": [
    {
     "data": {
      "text/html": [
       "<style scoped>\n",
       "  .ansiout {\n",
       "    display: block;\n",
       "    unicode-bidi: embed;\n",
       "    white-space: pre-wrap;\n",
       "    word-wrap: break-word;\n",
       "    word-break: break-all;\n",
       "    font-family: \"Source Code Pro\", \"Menlo\", monospace;;\n",
       "    font-size: 13px;\n",
       "    color: #555;\n",
       "    margin-left: 4px;\n",
       "    line-height: 19px;\n",
       "  }\n",
       "</style>\n",
       "<div class=\"ansiout\">+----------+----------------------------------+--------------------------+------------------------+-------------------------+------------------------+----------+----------+-------+--------------+--------------+------------------------------------------------------------------------------------------+\n",
       "SupplierID|CompanyName                       |ContactName               |ContactTitle            |Address                  |City                    |Region    |PostalCode|Country|Phone         |Fax           |HomePage                                                                                  |\n",
       "+----------+----------------------------------+--------------------------+------------------------+-------------------------+------------------------+----------+----------+-------+--------------+--------------+------------------------------------------------------------------------------------------+\n",
       "1         |Exotic Liquids                    |Charlotte Cooper          |Purchasing Manager      |49 Gilbert St.           |London                  |NULL      |EC1 4SD   |UK     |(171) 555-2222|NULL          |NULL                                                                                      |\n",
       "2         |New Orleans Cajun Delights        |Shelley Burke             |Order Administrator     |P.O. Box 78934           |New Orleans             |LA        |70117     |USA    |(100) 555-4822|NULL          |#CAJUN.HTM#                                                                               |\n",
       "3         |Grandma Kelly&#39;s Homestead         |Regina Murphy             |Sales Representative    |707 Oxford Rd.           |Ann Arbor               |MI        |48104     |USA    |(313) 555-5735|(313) 555-3349|NULL                                                                                      |\n",
       "4         |Tokyo Traders                     |Yoshi Nagase              |Marketing Manager       |9-8 Sekimai Musashino-shi|Tokyo                   |NULL      |100       |Japan  |(03) 3555-5011|NULL          |NULL                                                                                      |\n",
       "5         |Cooperativa de Quesos &#39;Las Cabras&#39;|Antonio del Valle Saavedra|Export Administrator    |Calle del Rosal 4        |Oviedo                  |Asturias  |33007     |Spain  |(98) 598 76 54|NULL          |NULL                                                                                      |\n",
       "6         |Mayumi&#39;s                          |Mayumi Ohno               |Marketing Representative|92 Setsuko Chuo-ku       |Osaka                   |NULL      |545       |Japan  |(06) 431-7877 |NULL          |Mayumi&#39;s (on the World Wide Web)#http://www.microsoft.com/accessdev/sampleapps/mayumi.htm#|\n",
       "7         |Pavlova                           | Ltd.                     |Ian Devling             |Marketing Manager        |74 Rose St. Moonie Ponds|Melbourne |Victoria  |3058   |Australia     |(03) 444-2343 |(03) 444-6588                                                                             |\n",
       "8         |Specialty Biscuits                | Ltd.                     |Peter Wilson            |Sales Representative     |29 King&#39;s Way           |Manchester|NULL      |M14 GSD|UK            |(161) 555-4448|NULL                                                                                      |\n",
       "9         |PB Knäckebröd AB                  |Lars Peterson             |Sales Agent             |Kaloadagatan 13          |Göteborg                |NULL      |S-345 67  |Sweden |031-987 65 43 |031-987 65 91 |NULL                                                                                      |\n",
       "10        |Refrescos Americanas LTDA         |Carlos Diaz               |Marketing Manager       |Av. das Americanas 12.890|Sao Paulo               |NULL      |5442      |Brazil |(11) 555 4640 |NULL          |NULL                                                                                      |\n",
       "+----------+----------------------------------+--------------------------+------------------------+-------------------------+------------------------+----------+----------+-------+--------------+--------------+------------------------------------------------------------------------------------------+\n",
       "only showing top 10 rows\n",
       "\n",
       "</div>"
      ]
     },
     "metadata": {},
     "output_type": "display_data"
    }
   ],
   "source": [
    "# Importing and saving the suppliers data as dataframe into tables\n",
    "df7=spark.read.option(\"header\",\"true\").csv(\"/FileStore/tables/suppliers.csv\")\n",
    "df7.show(10,False)"
   ]
  },
  {
   "cell_type": "code",
   "execution_count": 16,
   "metadata": {},
   "outputs": [
    {
     "data": {
      "text/html": [
       "<style scoped>\n",
       "  .ansiout {\n",
       "    display: block;\n",
       "    unicode-bidi: embed;\n",
       "    white-space: pre-wrap;\n",
       "    word-wrap: break-word;\n",
       "    word-break: break-all;\n",
       "    font-family: \"Source Code Pro\", \"Menlo\", monospace;;\n",
       "    font-size: 13px;\n",
       "    color: #555;\n",
       "    margin-left: 4px;\n",
       "    line-height: 19px;\n",
       "  }\n",
       "</style>\n",
       "<div class=\"ansiout\">+-----------+--------------------+--------+\n",
       "TerritoryID|TerritoryDescription|RegionID|\n",
       "+-----------+--------------------+--------+\n",
       "01581      |Westboro            |1       |\n",
       "01730      |Bedford             |1       |\n",
       "01833      |Georgetow           |1       |\n",
       "02116      |Boston              |1       |\n",
       "02139      |Cambridge           |1       |\n",
       "02184      |Braintree           |1       |\n",
       "02903      |Providence          |1       |\n",
       "03049      |Hollis              |3       |\n",
       "03801      |Portsmouth          |3       |\n",
       "06897      |Wilton              |1       |\n",
       "+-----------+--------------------+--------+\n",
       "only showing top 10 rows\n",
       "\n",
       "</div>"
      ]
     },
     "metadata": {},
     "output_type": "display_data"
    }
   ],
   "source": [
    "# Importing and saving the territories data as dataframe into tables\n",
    "df8=spark.read.option(\"header\",\"true\").csv(\"/FileStore/tables/territories.csv\")\n",
    "df8.show(10,False)"
   ]
  },
  {
   "cell_type": "code",
   "execution_count": 17,
   "metadata": {},
   "outputs": [
    {
     "data": {
      "text/html": [
       "<style scoped>\n",
       "  .ansiout {\n",
       "    display: block;\n",
       "    unicode-bidi: embed;\n",
       "    white-space: pre-wrap;\n",
       "    word-wrap: break-word;\n",
       "    word-break: break-all;\n",
       "    font-family: \"Source Code Pro\", \"Menlo\", monospace;;\n",
       "    font-size: 13px;\n",
       "    color: #555;\n",
       "    margin-left: 4px;\n",
       "    line-height: 19px;\n",
       "  }\n",
       "</style>\n",
       "<div class=\"ansiout\">+-------+---------+---------+--------+--------+\n",
       "OrderID|ProductID|UnitPrice|Quantity|Discount|\n",
       "+-------+---------+---------+--------+--------+\n",
       "10248  |11       |14.00    |12      |0       |\n",
       "10248  |42       |9.80     |10      |0       |\n",
       "10248  |72       |34.80    |5       |0       |\n",
       "10249  |14       |18.60    |9       |0       |\n",
       "10249  |51       |42.40    |40      |0       |\n",
       "10250  |41       |7.70     |10      |0       |\n",
       "10250  |51       |42.40    |35      |0.15    |\n",
       "10250  |65       |16.80    |15      |0.15    |\n",
       "10251  |22       |16.80    |6       |0.05    |\n",
       "10251  |57       |15.60    |15      |0.05    |\n",
       "+-------+---------+---------+--------+--------+\n",
       "only showing top 10 rows\n",
       "\n",
       "</div>"
      ]
     },
     "metadata": {},
     "output_type": "display_data"
    }
   ],
   "source": [
    "# Importing and saving the orderdetails data as dataframe into tables\n",
    "df9=spark.read.option(\"header\",\"true\").csv(\"/FileStore/shared_uploads/shaleshnathsharma@yahoo.in/orderdetails.csv\")\n",
    "df9.show(10,False)"
   ]
  },
  {
   "cell_type": "code",
   "execution_count": 18,
   "metadata": {},
   "outputs": [
    {
     "data": {
      "text/html": [
       "<style scoped>\n",
       "  .ansiout {\n",
       "    display: block;\n",
       "    unicode-bidi: embed;\n",
       "    white-space: pre-wrap;\n",
       "    word-wrap: break-word;\n",
       "    word-break: break-all;\n",
       "    font-family: \"Source Code Pro\", \"Menlo\", monospace;;\n",
       "    font-size: 13px;\n",
       "    color: #555;\n",
       "    margin-left: 4px;\n",
       "    line-height: 19px;\n",
       "  }\n",
       "</style>\n",
       "<div class=\"ansiout\">+----------+-----------+\n",
       "EmployeeID|TerritoryID|\n",
       "+----------+-----------+\n",
       "1         |06897      |\n",
       "1         |19713      |\n",
       "2         |01581      |\n",
       "2         |01730      |\n",
       "2         |01833      |\n",
       "2         |02116      |\n",
       "2         |02139      |\n",
       "2         |02184      |\n",
       "2         |40222      |\n",
       "3         |30346      |\n",
       "+----------+-----------+\n",
       "only showing top 10 rows\n",
       "\n",
       "</div>"
      ]
     },
     "metadata": {},
     "output_type": "display_data"
    }
   ],
   "source": [
    "# Importing and saving the employeeterritories data as dataframe into tables\n",
    "df10=spark.read.option(\"header\",\"true\").csv(\"/FileStore/shared_uploads/shaleshnathsharma@yahoo.in/employeeterritories.csv\")\n",
    "df10.show(10,False)"
   ]
  },
  {
   "cell_type": "markdown",
   "metadata": {},
   "source": [
    "Q1. Due to some changes in the business processes and market forces, the company has decided to change the categories of various products. Your manager has asked you to analyse the\n",
    "impact on the database. Specifically, he is concerned if existing orders will be impacted. He is also worried about what impact it may have on the downstream data warehouse."
   ]
  },
  {
   "cell_type": "markdown",
   "metadata": {},
   "source": [
    "<b>Answer a)</b> According to ER diagram, the category table has 3 columns with CategoryID as the primary key. It is also the foreign key in the Products table which has the ProductID as the primary key. So we see that the Er diagram is related to each other through various functions. Here the category table is related to the many to many function with the product id."
   ]
  },
  {
   "cell_type": "markdown",
   "metadata": {},
   "source": [
    "<b> Answer b) </b> This means that we have a lot of interdependent variables with each other. So, changing the CategoryID will definetly lead to an impact in the Order details & Supplier details with effect in decreasing the count of OrderID. So, this will have a major impact on the sales volume of the company. The customers trying to locate a product under a category will not be able to find it so, they might not be able to place the order for the product. So, yes the change in category will surely lead to the effect on variables like Quantity of the products ordered."
   ]
  },
  {
   "cell_type": "markdown",
   "metadata": {},
   "source": [
    "<b> Answer c) </b> As we have seen that there will be a measurable impact on the database due to this, so the existing orders will defintely be impacted . The introduction of new categories for certain products will definetly lead to the changes in the data warehouse system as the ETL would significantly be changed. In simple terms, if the categories of certain products are changed then, the data stored in the databse systems will be a bit mixed up to deal for overall analysis and predictions of sales revenue."
   ]
  },
  {
   "cell_type": "markdown",
   "metadata": {},
   "source": [
    "<b> Answer 2) </b> An analysis showing what categories have the most products under them and if they are changed then the above predictions and calculations will hold true."
   ]
  },
  {
   "cell_type": "code",
   "execution_count": 24,
   "metadata": {},
   "outputs": [
    {
     "data": {
      "text/html": [
       "<style scoped>\n",
       "  .ansiout {\n",
       "    display: block;\n",
       "    unicode-bidi: embed;\n",
       "    white-space: pre-wrap;\n",
       "    word-wrap: break-word;\n",
       "    word-break: break-all;\n",
       "    font-family: \"Source Code Pro\", \"Menlo\", monospace;;\n",
       "    font-size: 13px;\n",
       "    color: #555;\n",
       "    margin-left: 4px;\n",
       "    line-height: 19px;\n",
       "  }\n",
       "</style>\n",
       "<div class=\"ansiout\">+----------+------------+--------------------+---------+--------------------+----------+-------------------+---------+------------+------------+------------+------------+\n",
       "CategoryID|CategoryName|         Description|ProductID|         ProductName|SupplierID|    QuantityPerUnit|UnitPrice|UnitsInStock|UnitsOnOrder|ReorderLevel|Discontinued|\n",
       "+----------+------------+--------------------+---------+--------------------+----------+-------------------+---------+------------+------------+------------+------------+\n",
       "         1|   Beverages|Soft drinks coffe...|       70|       Outback Lager|         7|24 - 355 ml bottles|       15|          15|          10|          30|           0|\n",
       "         1|   Beverages|Soft drinks coffe...|       76|        Lakkalikööri|        23|             500 ml|       18|          57|           0|          20|           0|\n",
       "         1|   Beverages|Soft drinks coffe...|       75|Rhönbräu Klosterbier|        12| 24 - 0.5 l bottles|     7.75|         125|           0|          25|           0|\n",
       "         1|   Beverages|Soft drinks coffe...|       70|       Outback Lager|         7|24 - 355 ml bottles|       15|          15|          10|          30|           0|\n",
       "         1|   Beverages|Soft drinks coffe...|       67|Laughing Lumberja...|        16| 24 - 12 oz bottles|       14|          52|           0|          10|           0|\n",
       "         1|   Beverages|Soft drinks coffe...|       43|         Ipoh Coffee|        20|    16 - 500 g tins|       46|          17|          10|          25|           0|\n",
       "         1|   Beverages|Soft drinks coffe...|       39|    Chartreuse verte|        18|  750 cc per bottle|       18|          69|           0|           5|           0|\n",
       "         1|   Beverages|Soft drinks coffe...|       38|       Côte de Blaye|        18| 12 - 75 cl bottles|    263.5|          17|           0|          15|           0|\n",
       "         1|   Beverages|Soft drinks coffe...|       35|      Steeleye Stout|        16| 24 - 12 oz bottles|       18|          20|           0|          15|           0|\n",
       "         1|   Beverages|Soft drinks coffe...|       34|       Sasquatch Ale|        16| 24 - 12 oz bottles|       14|         111|           0|          15|           0|\n",
       "         1|   Beverages|Soft drinks coffe...|       24|  Guaraná Fantástica|        10|   12 - 355 ml cans|      4.5|          20|           0|           0|           1|\n",
       "         1|   Beverages|Soft drinks coffe...|        2|               Chang|         1| 24 - 12 oz bottles|       19|          17|          40|          25|           0|\n",
       "         1|   Beverages|Soft drinks coffe...|        1|                Chai|         1| 10 boxes x 20 bags|       18|          39|           0|          10|           0|\n",
       "         2|  Condiments|Sweet and savory ...|       61|      Sirop d&#39;érable|        29|24 - 500 ml bottles|     28.5|         113|           0|          25|           0|\n",
       "         2|  Condiments|Sweet and savory ...|        3|       Aniseed Syrup|         1|12 - 550 ml bottles|       10|          13|          70|          25|           0|\n",
       "         2|  Condiments|Sweet and savory ...|       77|Original Frankfur...|        12|           12 boxes|       13|          32|           0|          15|           0|\n",
       "         2|  Condiments|Sweet and savory ...|       66|Louisiana Hot Spi...|         2|     24 - 8 oz jars|       17|           4|         100|          20|           0|\n",
       "         2|  Condiments|Sweet and savory ...|       65|Louisiana Fiery H...|         2|  32 - 8 oz bottles|    21.05|          76|           0|           0|           0|\n",
       "         2|  Condiments|Sweet and savory ...|       63|        Vegie-spread|         7|    15 - 625 g jars|     43.9|          24|           0|           5|           0|\n",
       "         2|  Condiments|Sweet and savory ...|       61|      Sirop d&#39;érable|        29|24 - 500 ml bottles|     28.5|         113|           0|          25|           0|\n",
       "+----------+------------+--------------------+---------+--------------------+----------+-------------------+---------+------------+------------+------------+------------+\n",
       "only showing top 20 rows\n",
       "\n",
       "</div>"
      ]
     },
     "metadata": {},
     "output_type": "display_data"
    }
   ],
   "source": [
    "# Joining the Category Table & the Product table to find out the possible affected products\n",
    "df.createOrReplaceTempView(\"df\")\n",
    "df4.createOrReplaceTempView(\"df4\")\n",
    "cause_effectanalysis = df.join(df4,on=[\"CategoryID\"],how=\"left\")\n",
    "cause_effectanalysis.show()"
   ]
  },
  {
   "cell_type": "code",
   "execution_count": 25,
   "metadata": {},
   "outputs": [
    {
     "data": {
      "text/html": [
       "<style scoped>\n",
       "  .ansiout {\n",
       "    display: block;\n",
       "    unicode-bidi: embed;\n",
       "    white-space: pre-wrap;\n",
       "    word-wrap: break-word;\n",
       "    word-break: break-all;\n",
       "    font-family: \"Source Code Pro\", \"Menlo\", monospace;;\n",
       "    font-size: 13px;\n",
       "    color: #555;\n",
       "    margin-left: 4px;\n",
       "    line-height: 19px;\n",
       "  }\n",
       "</style>\n",
       "<div class=\"ansiout\"></div>"
      ]
     },
     "metadata": {},
     "output_type": "display_data"
    }
   ],
   "source": [
    "# We have to create a temporary view everytime we print the data in SparkSQL\n",
    "cause_effectanalysis.createOrReplaceTempView(\"cause_effectanalysis\")"
   ]
  },
  {
   "cell_type": "code",
   "execution_count": 26,
   "metadata": {},
   "outputs": [
    {
     "data": {
      "text/html": [
       "<style scoped>\n",
       "  .ansiout {\n",
       "    display: block;\n",
       "    unicode-bidi: embed;\n",
       "    white-space: pre-wrap;\n",
       "    word-wrap: break-word;\n",
       "    word-break: break-all;\n",
       "    font-family: \"Source Code Pro\", \"Menlo\", monospace;;\n",
       "    font-size: 13px;\n",
       "    color: #555;\n",
       "    margin-left: 4px;\n",
       "    line-height: 19px;\n",
       "  }\n",
       "</style>\n",
       "<div class=\"ansiout\">+--------------+---+\n",
       "  CategoryName|cnt|\n",
       "+--------------+---+\n",
       "    Condiments| 14|\n",
       "       Seafood| 13|\n",
       "   Confections| 13|\n",
       "     Beverages| 13|\n",
       "Dairy Products| 10|\n",
       "Grains/Cereals|  8|\n",
       "  Meat/Poultry|  6|\n",
       "       Produce|  5|\n",
       "+--------------+---+\n",
       "\n",
       "</div>"
      ]
     },
     "metadata": {},
     "output_type": "display_data"
    }
   ],
   "source": [
    "# Finding out the categories with the most types of Product ID listed\n",
    "z0_final=spark.sql(\"SELECT CategoryName, count(*) as cnt FROM cause_effectanalysis GROUP BY CategoryName HAVING cnt>0\")\n",
    "z0_final.orderBy(\"cnt\", ascending=False).show(10) "
   ]
  },
  {
   "cell_type": "markdown",
   "metadata": {},
   "source": [
    "<i> The above table shows us that Condiments category is at the top with 14 Product Ids listed in the company's databse. So, if the category of these products are going to change then, they might have a markable impact on the sales of the company. So, the manager should probably try to look for changing the  category id of less number of products so the Downstreaming of the data warehousing can also be prevented."
   ]
  },
  {
   "cell_type": "markdown",
   "metadata": {},
   "source": [
    "Qa. By mistake some data has been duplicated in the product table and is causing issues with order reconciliation. You have been asked to check the data and remove the duplicates. Create a dataframe (using Spark SQL) contained de-duped rows from the product table."
   ]
  },
  {
   "cell_type": "code",
   "execution_count": 29,
   "metadata": {},
   "outputs": [
    {
     "data": {
      "text/html": [
       "<style scoped>\n",
       "  .ansiout {\n",
       "    display: block;\n",
       "    unicode-bidi: embed;\n",
       "    white-space: pre-wrap;\n",
       "    word-wrap: break-word;\n",
       "    word-break: break-all;\n",
       "    font-family: \"Source Code Pro\", \"Menlo\", monospace;;\n",
       "    font-size: 13px;\n",
       "    color: #555;\n",
       "    margin-left: 4px;\n",
       "    line-height: 19px;\n",
       "  }\n",
       "</style>\n",
       "<div class=\"ansiout\">UsageError: Line magic function `%sql` not found.\n",
       "</div>"
      ]
     },
     "metadata": {},
     "output_type": "display_data"
    }
   ],
   "source": [
    "# Selecting SQL as the next language for further questions\n",
    "%sql "
   ]
  },
  {
   "cell_type": "markdown",
   "metadata": {},
   "source": [
    "<b> Answer a) </b> By mistake some data has been duplicated in the product table and is causing issues with order reconciliation. You have been asked to check the data and remove the duplicates. Create a dataframe (using Spark SQL) contained de-duped rows from the\n",
    "product table."
   ]
  },
  {
   "cell_type": "code",
   "execution_count": 31,
   "metadata": {},
   "outputs": [
    {
     "data": {
      "text/html": [
       "<style scoped>\n",
       "  .ansiout {\n",
       "    display: block;\n",
       "    unicode-bidi: embed;\n",
       "    white-space: pre-wrap;\n",
       "    word-wrap: break-word;\n",
       "    word-break: break-all;\n",
       "    font-family: \"Source Code Pro\", \"Menlo\", monospace;;\n",
       "    font-size: 13px;\n",
       "    color: #555;\n",
       "    margin-left: 4px;\n",
       "    line-height: 19px;\n",
       "  }\n",
       "</style>\n",
       "<div class=\"ansiout\">+----------+\n",
       "sum(count)|\n",
       "+----------+\n",
       "        10|\n",
       "+----------+\n",
       "\n",
       "</div>"
      ]
     },
     "metadata": {},
     "output_type": "display_data"
    }
   ],
   "source": [
    "# Checking for duplicate values in the Product table\n",
    "import pyspark.sql.functions as f\n",
    "df4.groupBy(df4.columns)\\\n",
    "    .count()\\\n",
    "    .where(f.col('count') > 1)\\\n",
    "    .select(f.sum('count'))\\\n",
    "    .show()"
   ]
  },
  {
   "cell_type": "markdown",
   "metadata": {},
   "source": [
    "<i> The total duplicate values are 10 in the product data. So now we have to remove them."
   ]
  },
  {
   "cell_type": "code",
   "execution_count": 33,
   "metadata": {},
   "outputs": [
    {
     "data": {
      "text/html": [
       "<style scoped>\n",
       "  .ansiout {\n",
       "    display: block;\n",
       "    unicode-bidi: embed;\n",
       "    white-space: pre-wrap;\n",
       "    word-wrap: break-word;\n",
       "    word-break: break-all;\n",
       "    font-family: \"Source Code Pro\", \"Menlo\", monospace;;\n",
       "    font-size: 13px;\n",
       "    color: #555;\n",
       "    margin-left: 4px;\n",
       "    line-height: 19px;\n",
       "  }\n",
       "</style>\n",
       "<div class=\"ansiout\"></div>"
      ]
     },
     "metadata": {},
     "output_type": "display_data"
    }
   ],
   "source": [
    "# Removing the duplicate values from the data  \n",
    "df4_final=df4.dropDuplicates(df4.columns)"
   ]
  },
  {
   "cell_type": "code",
   "execution_count": 34,
   "metadata": {},
   "outputs": [
    {
     "data": {
      "text/html": [
       "<style scoped>\n",
       "  .ansiout {\n",
       "    display: block;\n",
       "    unicode-bidi: embed;\n",
       "    white-space: pre-wrap;\n",
       "    word-wrap: break-word;\n",
       "    word-break: break-all;\n",
       "    font-family: \"Source Code Pro\", \"Menlo\", monospace;;\n",
       "    font-size: 13px;\n",
       "    color: #555;\n",
       "    margin-left: 4px;\n",
       "    line-height: 19px;\n",
       "  }\n",
       "</style>\n",
       "<div class=\"ansiout\">+----------+\n",
       "sum(count)|\n",
       "+----------+\n",
       "      null|\n",
       "+----------+\n",
       "\n",
       "</div>"
      ]
     },
     "metadata": {},
     "output_type": "display_data"
    }
   ],
   "source": [
    "# Rechecking the duplicate value counts to ensure they are deleted\n",
    "import pyspark.sql.functions as f\n",
    "df4_final.groupBy(df4_final.columns)\\\n",
    "    .count()\\\n",
    "    .where(f.col('count') > 1)\\\n",
    "    .select(f.sum('count'))\\\n",
    "    .show()"
   ]
  },
  {
   "cell_type": "markdown",
   "metadata": {},
   "source": [
    "<i> So we have removed the duplicate values and saved it into a new dataframe. A dataframe has already been made in SparkSQL."
   ]
  },
  {
   "cell_type": "markdown",
   "metadata": {},
   "source": [
    "<b> Answer b)</b> The company wants to recognize employees who are doing a great job pushing more orders. Create a dataframe of employees (display their Id, Name) and their total\n",
    "sales. Filter out only employees that have sold more than 70 products. Order the employees in descending order of sales."
   ]
  },
  {
   "cell_type": "code",
   "execution_count": 37,
   "metadata": {},
   "outputs": [
    {
     "data": {
      "text/html": [
       "<style scoped>\n",
       "  .ansiout {\n",
       "    display: block;\n",
       "    unicode-bidi: embed;\n",
       "    white-space: pre-wrap;\n",
       "    word-wrap: break-word;\n",
       "    word-break: break-all;\n",
       "    font-family: \"Source Code Pro\", \"Menlo\", monospace;;\n",
       "    font-size: 13px;\n",
       "    color: #555;\n",
       "    margin-left: 4px;\n",
       "    line-height: 19px;\n",
       "  }\n",
       "</style>\n",
       "<div class=\"ansiout\">+----------+--------+---------+--------------------+---------------+--------------------+--------------------+--------------------+-------+------+----------+-------+--------------+---------+--------------------+--------------------+---------+--------------------+-------+----------+--------------------+--------------------+--------------------+-------+-------+--------------------+--------------------+---------------+--------------+--------------+-----------+\n",
       "EmployeeID|LastName|FirstName|               Title|TitleOfCourtesy|           BirthDate|            HireDate|             Address|   City|Region|PostalCode|Country|     HomePhone|Extension|               Photo|               Notes|ReportsTo|           PhotoPath|OrderID|CustomerID|           OrderDate|        RequiredDate|         ShippedDate|ShipVia|Freight|            ShipName|         ShipAddress|       ShipCity|    ShipRegion|ShipPostalCode|ShipCountry|\n",
       "+----------+--------+---------+--------------------+---------------+--------------------+--------------------+--------------------+-------+------+----------+-------+--------------+---------+--------------------+--------------------+---------+--------------------+-------+----------+--------------------+--------------------+--------------------+-------+-------+--------------------+--------------------+---------------+--------------+--------------+-----------+\n",
       "         1| Davolio|    Nancy|Sales Representative|            Ms.|1948-12-08 00:00:...|1992-05-01 00:00:...|507 - 20th Ave. E...|Seattle|    WA|     98122|    USA|(206) 555-9857|     5467|0x151C2F000200000...|Education include...|        2|http://accweb/emm...|  11077|     RATTC|1998-05-06 00:00:...|1998-06-03 00:00:...|                NULL|      2|   8.53|Rattlesnake Canyo...|     2817 Milton Dr.|    Albuquerque|            NM|         87110|        USA|\n",
       "         1| Davolio|    Nancy|Sales Representative|            Ms.|1948-12-08 00:00:...|1992-05-01 00:00:...|507 - 20th Ave. E...|Seattle|    WA|     98122|    USA|(206) 555-9857|     5467|0x151C2F000200000...|Education include...|        2|http://accweb/emm...|  11071|     LILAS|1998-05-05 00:00:...|1998-06-02 00:00:...|                NULL|      1|   0.93|   LILA-Supermercado|Carrera 52 con Av...|   Barquisimeto|          Lara|          3508|  Venezuela|\n",
       "         1| Davolio|    Nancy|Sales Representative|            Ms.|1948-12-08 00:00:...|1992-05-01 00:00:...|507 - 20th Ave. E...|Seattle|    WA|     98122|    USA|(206) 555-9857|     5467|0x151C2F000200000...|Education include...|        2|http://accweb/emm...|  11069|     TORTU|1998-05-04 00:00:...|1998-06-01 00:00:...|1998-05-06 00:00:...|      2|  15.67| Tortuga Restaurante|    Avda. Azteca 123|    México D.F.|          NULL|         05033|     Mexico|\n",
       "         1| Davolio|    Nancy|Sales Representative|            Ms.|1948-12-08 00:00:...|1992-05-01 00:00:...|507 - 20th Ave. E...|Seattle|    WA|     98122|    USA|(206) 555-9857|     5467|0x151C2F000200000...|Education include...|        2|http://accweb/emm...|  11067|     DRACD|1998-05-04 00:00:...|1998-05-18 00:00:...|1998-05-06 00:00:...|      2|   7.98|Drachenblut Delik...|        Walserweg 21|         Aachen|          NULL|         52066|    Germany|\n",
       "         1| Davolio|    Nancy|Sales Representative|            Ms.|1948-12-08 00:00:...|1992-05-01 00:00:...|507 - 20th Ave. E...|Seattle|    WA|     98122|    USA|(206) 555-9857|     5467|0x151C2F000200000...|Education include...|        2|http://accweb/emm...|  11064|     SAVEA|1998-05-01 00:00:...|1998-05-29 00:00:...|1998-05-04 00:00:...|      1|  30.09|  Save-a-lot Markets|     187 Suffolk Ln.|          Boise|            ID|         83720|        USA|\n",
       "         1| Davolio|    Nancy|Sales Representative|            Ms.|1948-12-08 00:00:...|1992-05-01 00:00:...|507 - 20th Ave. E...|Seattle|    WA|     98122|    USA|(206) 555-9857|     5467|0x151C2F000200000...|Education include...|        2|http://accweb/emm...|  11039|     LINOD|1998-04-21 00:00:...|1998-05-19 00:00:...|                NULL|      2|  65.00|    LINO-Delicateses|Ave. 5 de Mayo Po...|I. de Margarita| Nueva Esparta|          4980|  Venezuela|\n",
       "         1| Davolio|    Nancy|Sales Representative|            Ms.|1948-12-08 00:00:...|1992-05-01 00:00:...|507 - 20th Ave. E...|Seattle|    WA|     98122|    USA|(206) 555-9857|     5467|0x151C2F000200000...|Education include...|        2|http://accweb/emm...|  11038|     SUPRD|1998-04-21 00:00:...|1998-05-19 00:00:...|1998-04-30 00:00:...|      2|  29.59|    Suprêmes délices|     Boulevard Tirou|            255|     Charleroi|          NULL|     B-6000|\n",
       "         1| Davolio|    Nancy|Sales Representative|            Ms.|1948-12-08 00:00:...|1992-05-01 00:00:...|507 - 20th Ave. E...|Seattle|    WA|     98122|    USA|(206) 555-9857|     5467|0x151C2F000200000...|Education include...|        2|http://accweb/emm...|  11027|     BOTTM|1998-04-16 00:00:...|1998-05-14 00:00:...|1998-04-20 00:00:...|      1|  52.52|Bottom-Dollar Mar...|  23 Tsawassen Blvd.|      Tsawassen|            BC|       T2F 8M4|     Canada|\n",
       "         1| Davolio|    Nancy|Sales Representative|            Ms.|1948-12-08 00:00:...|1992-05-01 00:00:...|507 - 20th Ave. E...|Seattle|    WA|     98122|    USA|(206) 555-9857|     5467|0x151C2F000200000...|Education include...|        2|http://accweb/emm...|  11023|     BSBEV|1998-04-14 00:00:...|1998-04-28 00:00:...|1998-04-24 00:00:...|      2| 123.83|       B&#39;s Beverages|   Fauntleroy Circus|         London|          NULL|       EC2 5NT|         UK|\n",
       "         1| Davolio|    Nancy|Sales Representative|            Ms.|1948-12-08 00:00:...|1992-05-01 00:00:...|507 - 20th Ave. E...|Seattle|    WA|     98122|    USA|(206) 555-9857|     5467|0x151C2F000200000...|Education include...|        2|http://accweb/emm...|  11012|     FRANK|1998-04-09 00:00:...|1998-04-23 00:00:...|1998-04-17 00:00:...|      3| 242.95|      Frankenversand|   Berliner Platz 43|        München|          NULL|         80805|    Germany|\n",
       "         1| Davolio|    Nancy|Sales Representative|            Ms.|1948-12-08 00:00:...|1992-05-01 00:00:...|507 - 20th Ave. E...|Seattle|    WA|     98122|    USA|(206) 555-9857|     5467|0x151C2F000200000...|Education include...|        2|http://accweb/emm...|  10995|     PERIC|1998-04-02 00:00:...|1998-04-30 00:00:...|1998-04-06 00:00:...|      3|  46.00|Pericles Comidas ...|Calle Dr. Jorge C...|    México D.F.|          NULL|         05033|     Mexico|\n",
       "         1| Davolio|    Nancy|Sales Representative|            Ms.|1948-12-08 00:00:...|1992-05-01 00:00:...|507 - 20th Ave. E...|Seattle|    WA|     98122|    USA|(206) 555-9857|     5467|0x151C2F000200000...|Education include...|        2|http://accweb/emm...|  10992|     THEBI|1998-04-01 00:00:...|1998-04-29 00:00:...|1998-04-03 00:00:...|      3|   4.27|      The Big Cheese|89 Jefferson Way ...|       Portland|            OR|         97201|        USA|\n",
       "         1| Davolio|    Nancy|Sales Representative|            Ms.|1948-12-08 00:00:...|1992-05-01 00:00:...|507 - 20th Ave. E...|Seattle|    WA|     98122|    USA|(206) 555-9857|     5467|0x151C2F000200000...|Education include...|        2|http://accweb/emm...|  10991|     QUICK|1998-04-01 00:00:...|1998-04-29 00:00:...|1998-04-07 00:00:...|      1|  38.51|          QUICK-Stop|    Taucherstraße 10|      Cunewalde|          NULL|         01307|    Germany|\n",
       "         1| Davolio|    Nancy|Sales Representative|            Ms.|1948-12-08 00:00:...|1992-05-01 00:00:...|507 - 20th Ave. E...|Seattle|    WA|     98122|    USA|(206) 555-9857|     5467|0x151C2F000200000...|Education include...|        2|http://accweb/emm...|  10984|     SAVEA|1998-03-30 00:00:...|1998-04-27 00:00:...|1998-04-03 00:00:...|      3| 211.22|  Save-a-lot Markets|     187 Suffolk Ln.|          Boise|            ID|         83720|        USA|\n",
       "         1| Davolio|    Nancy|Sales Representative|            Ms.|1948-12-08 00:00:...|1992-05-01 00:00:...|507 - 20th Ave. E...|Seattle|    WA|     98122|    USA|(206) 555-9857|     5467|0x151C2F000200000...|Education include...|        2|http://accweb/emm...|  10981|     HANAR|1998-03-27 00:00:...|1998-04-24 00:00:...|1998-04-02 00:00:...|      2| 193.37|       Hanari Carnes|         Rua do Paço|             67|Rio de Janeiro|            RJ|  05454-876|\n",
       "         1| Davolio|    Nancy|Sales Representative|            Ms.|1948-12-08 00:00:...|1992-05-01 00:00:...|507 - 20th Ave. E...|Seattle|    WA|     98122|    USA|(206) 555-9857|     5467|0x151C2F000200000...|Education include...|        2|http://accweb/emm...|  10976|     HILAA|1998-03-25 00:00:...|1998-05-06 00:00:...|1998-04-03 00:00:...|      1|  37.97|    HILARION-Abastos|Carrera 22 con Av...|  San Cristóbal|       Táchira|          5022|  Venezuela|\n",
       "         1| Davolio|    Nancy|Sales Representative|            Ms.|1948-12-08 00:00:...|1992-05-01 00:00:...|507 - 20th Ave. E...|Seattle|    WA|     98122|    USA|(206) 555-9857|     5467|0x151C2F000200000...|Education include...|        2|http://accweb/emm...|  10975|     BOTTM|1998-03-25 00:00:...|1998-04-22 00:00:...|1998-03-27 00:00:...|      3|  32.27|Bottom-Dollar Mar...|  23 Tsawassen Blvd.|      Tsawassen|            BC|       T2F 8M4|     Canada|\n",
       "         1| Davolio|    Nancy|Sales Representative|            Ms.|1948-12-08 00:00:...|1992-05-01 00:00:...|507 - 20th Ave. E...|Seattle|    WA|     98122|    USA|(206) 555-9857|     5467|0x151C2F000200000...|Education include...|        2|http://accweb/emm...|  10969|     COMMI|1998-03-23 00:00:...|1998-04-20 00:00:...|1998-03-30 00:00:...|      2|   0.21|    Comércio Mineiro|    Av. dos Lusíadas|             23|     Sao Paulo|            SP|  05432-043|\n",
       "         1| Davolio|    Nancy|Sales Representative|            Ms.|1948-12-08 00:00:...|1992-05-01 00:00:...|507 - 20th Ave. E...|Seattle|    WA|     98122|    USA|(206) 555-9857|     5467|0x151C2F000200000...|Education include...|        2|http://accweb/emm...|  10968|     ERNSH|1998-03-23 00:00:...|1998-04-20 00:00:...|1998-04-01 00:00:...|      3|  74.60|        Ernst Handel|        Kirchgasse 6|           Graz|          NULL|          8010|    Austria|\n",
       "         1| Davolio|    Nancy|Sales Representative|            Ms.|1948-12-08 00:00:...|1992-05-01 00:00:...|507 - 20th Ave. E...|Seattle|    WA|     98122|    USA|(206) 555-9857|     5467|0x151C2F000200000...|Education include...|        2|http://accweb/emm...|  10952|     ALFKI|1998-03-16 00:00:...|1998-04-27 00:00:...|1998-03-24 00:00:...|      1|  40.42|Alfred&#39;s Futterkiste|       Obere Str. 57|         Berlin|          NULL|         12209|    Germany|\n",
       "+----------+--------+---------+--------------------+---------------+--------------------+--------------------+--------------------+-------+------+----------+-------+--------------+---------+--------------------+--------------------+---------+--------------------+-------+----------+--------------------+--------------------+--------------------+-------+-------+--------------------+--------------------+---------------+--------------+--------------+-----------+\n",
       "only showing top 20 rows\n",
       "\n",
       "</div>"
      ]
     },
     "metadata": {},
     "output_type": "display_data"
    }
   ],
   "source": [
    "# Making a left join on the Employee table with Order Table\n",
    "df2.createOrReplaceTempView(\"df2\")\n",
    "df3.createOrReplaceTempView(\"df3\")\n",
    "emp_ord = df2.join(df3,on=[\"EmployeeID\"],how=\"left\")\n",
    "emp_ord.show()"
   ]
  },
  {
   "cell_type": "code",
   "execution_count": 38,
   "metadata": {},
   "outputs": [
    {
     "data": {
      "text/html": [
       "<style scoped>\n",
       "  .ansiout {\n",
       "    display: block;\n",
       "    unicode-bidi: embed;\n",
       "    white-space: pre-wrap;\n",
       "    word-wrap: break-word;\n",
       "    word-break: break-all;\n",
       "    font-family: \"Source Code Pro\", \"Menlo\", monospace;;\n",
       "    font-size: 13px;\n",
       "    color: #555;\n",
       "    margin-left: 4px;\n",
       "    line-height: 19px;\n",
       "  }\n",
       "</style>\n",
       "<div class=\"ansiout\">+-------+----------+--------+---------+--------------------+---------------+--------------------+--------------------+--------------------+-------+------+----------+-------+--------------+---------+--------------------+--------------------+---------+--------------------+----------+--------------------+--------------------+-----------+-------+-------+--------------------+---------------+-----------+----------+--------------+-----------+---------+---------+--------+--------+\n",
       "OrderID|EmployeeID|LastName|FirstName|               Title|TitleOfCourtesy|           BirthDate|            HireDate|             Address|   City|Region|PostalCode|Country|     HomePhone|Extension|               Photo|               Notes|ReportsTo|           PhotoPath|CustomerID|           OrderDate|        RequiredDate|ShippedDate|ShipVia|Freight|            ShipName|    ShipAddress|   ShipCity|ShipRegion|ShipPostalCode|ShipCountry|ProductID|UnitPrice|Quantity|Discount|\n",
       "+-------+----------+--------+---------+--------------------+---------------+--------------------+--------------------+--------------------+-------+------+----------+-------+--------------+---------+--------------------+--------------------+---------+--------------------+----------+--------------------+--------------------+-----------+-------+-------+--------------------+---------------+-----------+----------+--------------+-----------+---------+---------+--------+--------+\n",
       "  11077|         1| Davolio|    Nancy|Sales Representative|            Ms.|1948-12-08 00:00:...|1992-05-01 00:00:...|507 - 20th Ave. E...|Seattle|    WA|     98122|    USA|(206) 555-9857|     5467|0x151C2F000200000...|Education include...|        2|http://accweb/emm...|     RATTC|1998-05-06 00:00:...|1998-06-03 00:00:...|       NULL|      2|   8.53|Rattlesnake Canyo...|2817 Milton Dr.|Albuquerque|        NM|         87110|        USA|       77|    13.00|       2|       0|\n",
       "  11077|         1| Davolio|    Nancy|Sales Representative|            Ms.|1948-12-08 00:00:...|1992-05-01 00:00:...|507 - 20th Ave. E...|Seattle|    WA|     98122|    USA|(206) 555-9857|     5467|0x151C2F000200000...|Education include...|        2|http://accweb/emm...|     RATTC|1998-05-06 00:00:...|1998-06-03 00:00:...|       NULL|      2|   8.53|Rattlesnake Canyo...|2817 Milton Dr.|Albuquerque|        NM|         87110|        USA|       75|     7.75|       4|       0|\n",
       "  11077|         1| Davolio|    Nancy|Sales Representative|            Ms.|1948-12-08 00:00:...|1992-05-01 00:00:...|507 - 20th Ave. E...|Seattle|    WA|     98122|    USA|(206) 555-9857|     5467|0x151C2F000200000...|Education include...|        2|http://accweb/emm...|     RATTC|1998-05-06 00:00:...|1998-06-03 00:00:...|       NULL|      2|   8.53|Rattlesnake Canyo...|2817 Milton Dr.|Albuquerque|        NM|         87110|        USA|       73|    15.00|       2|    0.01|\n",
       "  11077|         1| Davolio|    Nancy|Sales Representative|            Ms.|1948-12-08 00:00:...|1992-05-01 00:00:...|507 - 20th Ave. E...|Seattle|    WA|     98122|    USA|(206) 555-9857|     5467|0x151C2F000200000...|Education include...|        2|http://accweb/emm...|     RATTC|1998-05-06 00:00:...|1998-06-03 00:00:...|       NULL|      2|   8.53|Rattlesnake Canyo...|2817 Milton Dr.|Albuquerque|        NM|         87110|        USA|       66|    17.00|       1|       0|\n",
       "  11077|         1| Davolio|    Nancy|Sales Representative|            Ms.|1948-12-08 00:00:...|1992-05-01 00:00:...|507 - 20th Ave. E...|Seattle|    WA|     98122|    USA|(206) 555-9857|     5467|0x151C2F000200000...|Education include...|        2|http://accweb/emm...|     RATTC|1998-05-06 00:00:...|1998-06-03 00:00:...|       NULL|      2|   8.53|Rattlesnake Canyo...|2817 Milton Dr.|Albuquerque|        NM|         87110|        USA|       64|    33.25|       2|    0.03|\n",
       "  11077|         1| Davolio|    Nancy|Sales Representative|            Ms.|1948-12-08 00:00:...|1992-05-01 00:00:...|507 - 20th Ave. E...|Seattle|    WA|     98122|    USA|(206) 555-9857|     5467|0x151C2F000200000...|Education include...|        2|http://accweb/emm...|     RATTC|1998-05-06 00:00:...|1998-06-03 00:00:...|       NULL|      2|   8.53|Rattlesnake Canyo...|2817 Milton Dr.|Albuquerque|        NM|         87110|        USA|       60|    34.00|       2|    0.06|\n",
       "  11077|         1| Davolio|    Nancy|Sales Representative|            Ms.|1948-12-08 00:00:...|1992-05-01 00:00:...|507 - 20th Ave. E...|Seattle|    WA|     98122|    USA|(206) 555-9857|     5467|0x151C2F000200000...|Education include...|        2|http://accweb/emm...|     RATTC|1998-05-06 00:00:...|1998-06-03 00:00:...|       NULL|      2|   8.53|Rattlesnake Canyo...|2817 Milton Dr.|Albuquerque|        NM|         87110|        USA|       55|    24.00|       2|       0|\n",
       "  11077|         1| Davolio|    Nancy|Sales Representative|            Ms.|1948-12-08 00:00:...|1992-05-01 00:00:...|507 - 20th Ave. E...|Seattle|    WA|     98122|    USA|(206) 555-9857|     5467|0x151C2F000200000...|Education include...|        2|http://accweb/emm...|     RATTC|1998-05-06 00:00:...|1998-06-03 00:00:...|       NULL|      2|   8.53|Rattlesnake Canyo...|2817 Milton Dr.|Albuquerque|        NM|         87110|        USA|       52|     7.00|       2|       0|\n",
       "  11077|         1| Davolio|    Nancy|Sales Representative|            Ms.|1948-12-08 00:00:...|1992-05-01 00:00:...|507 - 20th Ave. E...|Seattle|    WA|     98122|    USA|(206) 555-9857|     5467|0x151C2F000200000...|Education include...|        2|http://accweb/emm...|     RATTC|1998-05-06 00:00:...|1998-06-03 00:00:...|       NULL|      2|   8.53|Rattlesnake Canyo...|2817 Milton Dr.|Albuquerque|        NM|         87110|        USA|       46|    12.00|       3|    0.02|\n",
       "  11077|         1| Davolio|    Nancy|Sales Representative|            Ms.|1948-12-08 00:00:...|1992-05-01 00:00:...|507 - 20th Ave. E...|Seattle|    WA|     98122|    USA|(206) 555-9857|     5467|0x151C2F000200000...|Education include...|        2|http://accweb/emm...|     RATTC|1998-05-06 00:00:...|1998-06-03 00:00:...|       NULL|      2|   8.53|Rattlesnake Canyo...|2817 Milton Dr.|Albuquerque|        NM|         87110|        USA|       41|     9.65|       3|       0|\n",
       "  11077|         1| Davolio|    Nancy|Sales Representative|            Ms.|1948-12-08 00:00:...|1992-05-01 00:00:...|507 - 20th Ave. E...|Seattle|    WA|     98122|    USA|(206) 555-9857|     5467|0x151C2F000200000...|Education include...|        2|http://accweb/emm...|     RATTC|1998-05-06 00:00:...|1998-06-03 00:00:...|       NULL|      2|   8.53|Rattlesnake Canyo...|2817 Milton Dr.|Albuquerque|        NM|         87110|        USA|       39|    18.00|       2|    0.05|\n",
       "  11077|         1| Davolio|    Nancy|Sales Representative|            Ms.|1948-12-08 00:00:...|1992-05-01 00:00:...|507 - 20th Ave. E...|Seattle|    WA|     98122|    USA|(206) 555-9857|     5467|0x151C2F000200000...|Education include...|        2|http://accweb/emm...|     RATTC|1998-05-06 00:00:...|1998-06-03 00:00:...|       NULL|      2|   8.53|Rattlesnake Canyo...|2817 Milton Dr.|Albuquerque|        NM|         87110|        USA|       32|    32.00|       1|       0|\n",
       "  11077|         1| Davolio|    Nancy|Sales Representative|            Ms.|1948-12-08 00:00:...|1992-05-01 00:00:...|507 - 20th Ave. E...|Seattle|    WA|     98122|    USA|(206) 555-9857|     5467|0x151C2F000200000...|Education include...|        2|http://accweb/emm...|     RATTC|1998-05-06 00:00:...|1998-06-03 00:00:...|       NULL|      2|   8.53|Rattlesnake Canyo...|2817 Milton Dr.|Albuquerque|        NM|         87110|        USA|       23|     9.00|       2|       0|\n",
       "  11077|         1| Davolio|    Nancy|Sales Representative|            Ms.|1948-12-08 00:00:...|1992-05-01 00:00:...|507 - 20th Ave. E...|Seattle|    WA|     98122|    USA|(206) 555-9857|     5467|0x151C2F000200000...|Education include...|        2|http://accweb/emm...|     RATTC|1998-05-06 00:00:...|1998-06-03 00:00:...|       NULL|      2|   8.53|Rattlesnake Canyo...|2817 Milton Dr.|Albuquerque|        NM|         87110|        USA|       20|    81.00|       1|    0.04|\n",
       "  11077|         1| Davolio|    Nancy|Sales Representative|            Ms.|1948-12-08 00:00:...|1992-05-01 00:00:...|507 - 20th Ave. E...|Seattle|    WA|     98122|    USA|(206) 555-9857|     5467|0x151C2F000200000...|Education include...|        2|http://accweb/emm...|     RATTC|1998-05-06 00:00:...|1998-06-03 00:00:...|       NULL|      2|   8.53|Rattlesnake Canyo...|2817 Milton Dr.|Albuquerque|        NM|         87110|        USA|       16|    17.45|       2|    0.03|\n",
       "  11077|         1| Davolio|    Nancy|Sales Representative|            Ms.|1948-12-08 00:00:...|1992-05-01 00:00:...|507 - 20th Ave. E...|Seattle|    WA|     98122|    USA|(206) 555-9857|     5467|0x151C2F000200000...|Education include...|        2|http://accweb/emm...|     RATTC|1998-05-06 00:00:...|1998-06-03 00:00:...|       NULL|      2|   8.53|Rattlesnake Canyo...|2817 Milton Dr.|Albuquerque|        NM|         87110|        USA|       14|    23.25|       1|    0.03|\n",
       "  11077|         1| Davolio|    Nancy|Sales Representative|            Ms.|1948-12-08 00:00:...|1992-05-01 00:00:...|507 - 20th Ave. E...|Seattle|    WA|     98122|    USA|(206) 555-9857|     5467|0x151C2F000200000...|Education include...|        2|http://accweb/emm...|     RATTC|1998-05-06 00:00:...|1998-06-03 00:00:...|       NULL|      2|   8.53|Rattlesnake Canyo...|2817 Milton Dr.|Albuquerque|        NM|         87110|        USA|       13|     6.00|       4|       0|\n",
       "  11077|         1| Davolio|    Nancy|Sales Representative|            Ms.|1948-12-08 00:00:...|1992-05-01 00:00:...|507 - 20th Ave. E...|Seattle|    WA|     98122|    USA|(206) 555-9857|     5467|0x151C2F000200000...|Education include...|        2|http://accweb/emm...|     RATTC|1998-05-06 00:00:...|1998-06-03 00:00:...|       NULL|      2|   8.53|Rattlesnake Canyo...|2817 Milton Dr.|Albuquerque|        NM|         87110|        USA|       12|    38.00|       2|    0.05|\n",
       "  11077|         1| Davolio|    Nancy|Sales Representative|            Ms.|1948-12-08 00:00:...|1992-05-01 00:00:...|507 - 20th Ave. E...|Seattle|    WA|     98122|    USA|(206) 555-9857|     5467|0x151C2F000200000...|Education include...|        2|http://accweb/emm...|     RATTC|1998-05-06 00:00:...|1998-06-03 00:00:...|       NULL|      2|   8.53|Rattlesnake Canyo...|2817 Milton Dr.|Albuquerque|        NM|         87110|        USA|       10|    31.00|       1|       0|\n",
       "  11077|         1| Davolio|    Nancy|Sales Representative|            Ms.|1948-12-08 00:00:...|1992-05-01 00:00:...|507 - 20th Ave. E...|Seattle|    WA|     98122|    USA|(206) 555-9857|     5467|0x151C2F000200000...|Education include...|        2|http://accweb/emm...|     RATTC|1998-05-06 00:00:...|1998-06-03 00:00:...|       NULL|      2|   8.53|Rattlesnake Canyo...|2817 Milton Dr.|Albuquerque|        NM|         87110|        USA|        8|    40.00|       2|     0.1|\n",
       "+-------+----------+--------+---------+--------------------+---------------+--------------------+--------------------+--------------------+-------+------+----------+-------+--------------+---------+--------------------+--------------------+---------+--------------------+----------+--------------------+--------------------+-----------+-------+-------+--------------------+---------------+-----------+----------+--------------+-----------+---------+---------+--------+--------+\n",
       "only showing top 20 rows\n",
       "\n",
       "</div>"
      ]
     },
     "metadata": {},
     "output_type": "display_data"
    }
   ],
   "source": [
    "# Making a left join on the emp_ord table with Order details Table\n",
    "emp_ord.createOrReplaceTempView(\"emp_ord\")\n",
    "df9.createOrReplaceTempView(\"df9\")\n",
    "emp_sales = emp_ord.join(df9,on=[\"OrderID\"],how=\"left\")\n",
    "emp_sales.show()"
   ]
  },
  {
   "cell_type": "code",
   "execution_count": 39,
   "metadata": {},
   "outputs": [
    {
     "data": {
      "text/html": [
       "<style scoped>\n",
       "  .ansiout {\n",
       "    display: block;\n",
       "    unicode-bidi: embed;\n",
       "    white-space: pre-wrap;\n",
       "    word-wrap: break-word;\n",
       "    word-break: break-all;\n",
       "    font-family: \"Source Code Pro\", \"Menlo\", monospace;;\n",
       "    font-size: 13px;\n",
       "    color: #555;\n",
       "    margin-left: 4px;\n",
       "    line-height: 19px;\n",
       "  }\n",
       "</style>\n",
       "<div class=\"ansiout\"></div>"
      ]
     },
     "metadata": {},
     "output_type": "display_data"
    }
   ],
   "source": [
    "# Creating a temporary view for the final joint data\n",
    "emp_sales.createOrReplaceTempView(\"emp_sales\")"
   ]
  },
  {
   "cell_type": "code",
   "execution_count": 40,
   "metadata": {},
   "outputs": [
    {
     "data": {
      "text/html": [
       "<style scoped>\n",
       "  .ansiout {\n",
       "    display: block;\n",
       "    unicode-bidi: embed;\n",
       "    white-space: pre-wrap;\n",
       "    word-wrap: break-word;\n",
       "    word-break: break-all;\n",
       "    font-family: \"Source Code Pro\", \"Menlo\", monospace;;\n",
       "    font-size: 13px;\n",
       "    color: #555;\n",
       "    margin-left: 4px;\n",
       "    line-height: 19px;\n",
       "  }\n",
       "</style>\n",
       "<div class=\"ansiout\">+----------+-------------+\n",
       "EmployeeID|Product_count|\n",
       "+----------+-------------+\n",
       "         4|          420|\n",
       "         1|          345|\n",
       "         3|          321|\n",
       "         8|          260|\n",
       "         2|          241|\n",
       "         7|          176|\n",
       "         6|          168|\n",
       "         5|          117|\n",
       "         9|          107|\n",
       "+----------+-------------+\n",
       "\n",
       "</div>"
      ]
     },
     "metadata": {},
     "output_type": "display_data"
    }
   ],
   "source": [
    "z0=spark.sql(\"SELECT EmployeeID, count(ProductID) as Product_count FROM emp_sales GROUP BY EmployeeID HAVING Product_count>70\")\n",
    "z0.orderBy(\"Product_count\", ascending=False).show(10) "
   ]
  }
 ],
 "metadata": {
  "kernelspec": {
   "display_name": "Python 3",
   "language": "python",
   "name": "python3"
  },
  "language_info": {
   "codemirror_mode": {
    "name": "ipython",
    "version": 3
   },
   "file_extension": ".py",
   "mimetype": "text/x-python",
   "name": "python",
   "nbconvert_exporter": "python",
   "pygments_lexer": "ipython3",
   "version": "3.7.7"
  },
  "name": "2020-10-04 - DBFS Example",
  "notebookId": 2820106996892164
 },
 "nbformat": 4,
 "nbformat_minor": 1
}
