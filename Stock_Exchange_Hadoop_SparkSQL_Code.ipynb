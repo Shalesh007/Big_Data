{
 "cells": [
  {
   "cell_type": "markdown",
   "metadata": {},
   "source": [
    "# New York Stock Exchange Code (using pySpark)"
   ]
  },
  {
   "cell_type": "code",
   "execution_count": 1,
   "metadata": {},
   "outputs": [],
   "source": [
    "import findspark\n",
    "findspark.init()\n",
    "import pyspark"
   ]
  },
  {
   "cell_type": "code",
   "execution_count": 2,
   "metadata": {},
   "outputs": [],
   "source": [
    "from pyspark.sql import SparkSession\n",
    "spark = SparkSession.builder.appName(\"Python Spark SQL example\").getOrCreate()"
   ]
  },
  {
   "cell_type": "code",
   "execution_count": 3,
   "metadata": {},
   "outputs": [],
   "source": [
    "NYSE_daily = spark.read.load(\"/user/NYSE_ASS/NYSE_daily.tsv\", format=\"csv\", sep=\"\\t\", inferSchema=\"true\", header=\"false\")\n",
    "NYSE_dividends = spark.read.load(\"/user/NYSE_ASS/NYSE_dividends.tsv\", format=\"csv\", sep=\"\\t\", inferSchema=\"true\", header=\"false\")"
   ]
  },
  {
   "cell_type": "markdown",
   "metadata": {},
   "source": [
    "### Business Scenario:\n",
    "Daily data from New York Stock Exchange is given for the years 1970 to 2010 for a few companies. Also their\n",
    "dividends data for these years is given in another file. A couple of lists or reports are to be generated from this\n",
    "data as specified."
   ]
  },
  {
   "cell_type": "code",
   "execution_count": 4,
   "metadata": {},
   "outputs": [],
   "source": [
    "NYSE_daily.createOrReplaceTempView(\"daily\")\n",
    "NYSE_dividends.createOrReplaceTempView(\"dividends\")"
   ]
  },
  {
   "cell_type": "code",
   "execution_count": 5,
   "metadata": {},
   "outputs": [],
   "source": [
    "NYSE_daily = (NYSE_daily.withColumnRenamed('_c0','exchange')\n",
    "              .withColumnRenamed('_c1','stock_symbol')\n",
    "              .withColumnRenamed('_c2','date')\n",
    "              .withColumnRenamed('_c3','open_price')\n",
    "              .withColumnRenamed('_c4','high_price')\n",
    "              .withColumnRenamed('_c5','low_price')\n",
    "              .withColumnRenamed('_c6','close_price')\n",
    "              .withColumnRenamed('_c7','volume')\n",
    "              .withColumnRenamed('_c8','adjusted_close_price'))"
   ]
  },
  {
   "cell_type": "code",
   "execution_count": 6,
   "metadata": {},
   "outputs": [],
   "source": [
    "NYSE_dividends = (NYSE_dividends.withColumnRenamed('_c0','exchange')\n",
    "              .withColumnRenamed('_c1','stock_symbol')\n",
    "              .withColumnRenamed('_c2','date')\n",
    "              .withColumnRenamed('_c3','dividends'))"
   ]
  },
  {
   "cell_type": "code",
   "execution_count": 7,
   "metadata": {},
   "outputs": [],
   "source": [
    "NYSE_daily.createOrReplaceTempView(\"daily\")\n",
    "NYSE_dividends.createOrReplaceTempView(\"dividends\")"
   ]
  },
  {
   "cell_type": "code",
   "execution_count": 8,
   "metadata": {},
   "outputs": [],
   "source": [
    "NYSE_daily.createOrReplaceTempView(\"daily\")\n",
    "NYSE_dividends.createOrReplaceTempView(\"dividends\")"
   ]
  },
  {
   "cell_type": "markdown",
   "metadata": {},
   "source": [
    "## Question 1"
   ]
  },
  {
   "cell_type": "markdown",
   "metadata": {},
   "source": [
    "List the companies which have the stock close price more than or equal to 200 and stock volume more than or\n",
    "equal to 10 million."
   ]
  },
  {
   "cell_type": "code",
   "execution_count": 19,
   "metadata": {},
   "outputs": [
    {
     "name": "stdout",
     "output_type": "stream",
     "text": [
      "+------------+-----------+--------+\n",
      "|stock_symbol|close_price|  volume|\n",
      "+------------+-----------+--------+\n",
      "|        JNPR|     216.13|13424800|\n",
      "|        JNPR|     232.58|11323800|\n",
      "|        JNPR|     213.88|15463100|\n",
      "|        JNPR|     229.19|16734200|\n",
      "|        JNPR|      243.0|17288400|\n",
      "|        JNPR|      228.5|19565000|\n",
      "|        JNPR|      206.0|16487000|\n",
      "|        JNPR|     205.94|12586900|\n",
      "|        JNPR|     207.95|11819100|\n",
      "|        JNPR|     201.44|13457300|\n",
      "|        JNPR|     206.13|10621700|\n",
      "|        JNPR|     225.64|12392300|\n",
      "|        JNPR|     220.06|12225300|\n",
      "|        JNPR|     209.92|13482800|\n",
      "|        JNPR|     209.69|15197300|\n",
      "|        JNPR|      237.0|12235000|\n",
      "|        JNPR|      238.0|13748200|\n",
      "|        JNPR|     224.69|11566000|\n",
      "|        JNPR|      214.5|10173400|\n",
      "|        JNPR|     204.13|12961600|\n",
      "+------------+-----------+--------+\n",
      "only showing top 20 rows\n",
      "\n"
     ]
    }
   ],
   "source": [
    "q1=spark.sql(\"SELECT stock_symbol,close_price, volume FROM daily WHERE close_price >=200 and volume >=10000000\")\n",
    "q1.show()"
   ]
  },
  {
   "cell_type": "markdown",
   "metadata": {},
   "source": [
    "## Question 2 "
   ]
  },
  {
   "cell_type": "markdown",
   "metadata": {},
   "source": [
    "List the companies that have given dividends more than 50 times. The list should include the number of times\n",
    "they have given dividends."
   ]
  },
  {
   "cell_type": "code",
   "execution_count": 20,
   "metadata": {},
   "outputs": [
    {
     "name": "stdout",
     "output_type": "stream",
     "text": [
      "+------------+--------------+\n",
      "|stock_symbol|dividend_count|\n",
      "+------------+--------------+\n",
      "|         JCP|           114|\n",
      "|         JEF|            72|\n",
      "|         JPM|           104|\n",
      "|         JRO|            63|\n",
      "|         JFP|            58|\n",
      "|         JHI|            99|\n",
      "|         JNJ|           160|\n",
      "|         JHS|            88|\n",
      "|         JTP|            91|\n",
      "|         JOE|            51|\n",
      "|         JQC|            55|\n",
      "|         JHP|            85|\n",
      "|         JPS|            89|\n",
      "|         JPC|            60|\n",
      "|         JCI|            97|\n",
      "|         JFR|            68|\n",
      "|         JWN|            81|\n",
      "+------------+--------------+\n",
      "\n"
     ]
    }
   ],
   "source": [
    "q2=spark.sql(\"SELECT stock_symbol, count(*) as dividend_count FROM dividends GROUP BY stock_symbol HAVING dividend_count>50\")\n",
    "q2.show()"
   ]
  },
  {
   "cell_type": "markdown",
   "metadata": {},
   "source": [
    "## Question 3"
   ]
  },
  {
   "cell_type": "markdown",
   "metadata": {},
   "source": [
    "List the companies along with their close price, dividends and the date when they gave dividends of more than\n",
    "0.01 when their daily close price was more than or equal to 100 sorted by dividends in ascending order."
   ]
  },
  {
   "cell_type": "code",
   "execution_count": 21,
   "metadata": {},
   "outputs": [
    {
     "name": "stdout",
     "output_type": "stream",
     "text": [
      "+------------+---------+--------+----------+----------+---------+-----------+-------+--------------------+--------+---------+\n",
      "|stock_symbol|     date|exchange|open_price|high_price|low_price|close_price| volume|adjusted_close_price|exchange|dividends|\n",
      "+------------+---------+--------+----------+----------+---------+-----------+-------+--------------------+--------+---------+\n",
      "|         JEF| 2/8/2010|    NYSE|      25.4|     25.49|    24.78|      24.82|1134300|               24.82|    null|     null|\n",
      "|         JEF| 2/5/2010|    NYSE|     24.91|     25.19|    24.08|      25.01|1765200|               25.01|    null|     null|\n",
      "|         JEF| 2/4/2010|    NYSE|     26.01|      26.2|    24.85|      24.85|1414400|               24.85|    null|     null|\n",
      "|         JEF| 2/3/2010|    NYSE|     26.23|     26.76|    26.22|      26.29|1066000|               26.29|    null|     null|\n",
      "|         JEF| 2/2/2010|    NYSE|     26.08|     26.86|    25.78|      26.46|1496400|               26.46|    null|     null|\n",
      "|         JEF| 2/1/2010|    NYSE|     25.61|     26.11|    25.36|      26.11|2381800|               26.11|    null|     null|\n",
      "|         JEF|1/29/2010|    NYSE|     26.57|      26.8|    25.41|      25.54|2010000|               25.54|    null|     null|\n",
      "|         JEF|1/28/2010|    NYSE|      27.4|      27.4|    26.35|      26.36|1708100|               26.36|    null|     null|\n",
      "|         JEF|1/27/2010|    NYSE|     26.44|     27.15|    26.42|      27.14|1929700|               27.14|    null|     null|\n",
      "|         JEF|1/26/2010|    NYSE|     26.68|     26.99|    26.46|       26.5|1422100|                26.5|    null|     null|\n",
      "|         JEF|1/25/2010|    NYSE|     26.88|     27.17|    26.42|      26.73|1296300|               26.73|    null|     null|\n",
      "|         JEF|1/22/2010|    NYSE|     26.95|     27.13|    26.48|      26.58|4806900|               26.58|    null|     null|\n",
      "|         JEF|1/21/2010|    NYSE|     26.91|     27.15|    25.88|       27.0|4037000|                27.0|    null|     null|\n",
      "|         JEF|1/20/2010|    NYSE|     25.81|     27.72|    25.51|       26.8|3740600|                26.8|    null|     null|\n",
      "|         JEF|1/19/2010|    NYSE|     25.41|     25.94|    25.38|      25.83|1657700|               25.83|    null|     null|\n",
      "|         JEF|1/15/2010|    NYSE|     25.72|     26.02|    25.13|      25.48|3198700|               25.48|    null|     null|\n",
      "|         JEF|1/14/2010|    NYSE|      25.4|     25.96|    25.22|      25.82|2090400|               25.82|    null|     null|\n",
      "|         JEF|1/13/2010|    NYSE|     25.58|     25.62|    25.27|      25.46|2418900|               25.46|    null|     null|\n",
      "|         JEF|1/12/2010|    NYSE|     25.61|     25.83|    25.35|      25.53|3174200|               25.53|    null|     null|\n",
      "|         JEF|1/11/2010|    NYSE|     26.08|      26.2|    25.73|      25.93|1534600|               25.93|    null|     null|\n",
      "+------------+---------+--------+----------+----------+---------+-----------+-------+--------------------+--------+---------+\n",
      "only showing top 20 rows\n",
      "\n"
     ]
    }
   ],
   "source": [
    "q3a = NYSE_daily.join(NYSE_dividends,on=[\"stock_symbol\",\"date\"],how=\"left\")\n",
    "q3a.show()"
   ]
  },
  {
   "cell_type": "code",
   "execution_count": 22,
   "metadata": {},
   "outputs": [
    {
     "name": "stdout",
     "output_type": "stream",
     "text": [
      "+------------+----------+-----------+---------+\n",
      "|stock_symbol|      date|close_price|dividends|\n",
      "+------------+----------+-----------+---------+\n",
      "|         JNJ| 8/17/1987|     101.62|  0.02625|\n",
      "|         JNJ| 2/11/1992|     104.37|     0.05|\n",
      "|         JCI|12/10/2003|     109.55|    0.075|\n",
      "|         JCI| 9/12/2007|     107.34|     0.11|\n",
      "|         JCI| 6/13/2007|     110.87|     0.11|\n",
      "|         JNJ|11/12/1999|     103.75|     0.14|\n",
      "|         JNJ| 5/18/2001|      101.0|     0.18|\n",
      "|         JPM|  1/2/1998|     110.62|  0.20667|\n",
      "|         JPM| 10/2/1997|     120.44|  0.20667|\n",
      "|         JPM|  4/2/1998|     139.31|     0.24|\n",
      "|         JLL| 5/11/2007|     117.09|     0.35|\n",
      "+------------+----------+-----------+---------+\n",
      "\n"
     ]
    }
   ],
   "source": [
    "q3=q3a.filter(\"dividends > .01 and close_price >=100\").select(\"stock_symbol\",\"date\",\"close_price\",\"dividends\").orderBy(\"dividends\", asc=True)\n",
    "q3.show()"
   ]
  },
  {
   "cell_type": "markdown",
   "metadata": {},
   "source": [
    "## Question 4"
   ]
  },
  {
   "cell_type": "markdown",
   "metadata": {},
   "source": [
    "Save the above lists as comma separated files."
   ]
  },
  {
   "cell_type": "code",
   "execution_count": 26,
   "metadata": {},
   "outputs": [],
   "source": [
    "import pandas as pd\n",
    "q1.toPandas().to_csv('answer1.csv')"
   ]
  },
  {
   "cell_type": "code",
   "execution_count": 27,
   "metadata": {},
   "outputs": [],
   "source": [
    "q2.toPandas().to_csv('answer2.csv')"
   ]
  },
  {
   "cell_type": "code",
   "execution_count": 28,
   "metadata": {},
   "outputs": [],
   "source": [
    "q3.toPandas().to_csv('answer3.csv')"
   ]
  }
 ],
 "metadata": {
  "kernelspec": {
   "display_name": "Python 3",
   "language": "python",
   "name": "python3"
  },
  "language_info": {
   "codemirror_mode": {
    "name": "ipython",
    "version": 3
   },
   "file_extension": ".py",
   "mimetype": "text/x-python",
   "name": "python",
   "nbconvert_exporter": "python",
   "pygments_lexer": "ipython3",
   "version": "3.7.7"
  }
 },
 "nbformat": 4,
 "nbformat_minor": 2
}
